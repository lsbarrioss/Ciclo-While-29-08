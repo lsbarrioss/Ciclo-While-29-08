{
 "cells": [
  {
   "cell_type": "code",
   "execution_count": 10,
   "metadata": {},
   "outputs": [
    {
     "name": "stdout",
     "output_type": "stream",
     "text": [
      "tu contraseña de longitud 5 es: guigo\n"
     ]
    }
   ],
   "source": [
    "# !\"#$%()*+,-./0123456789?@ABCDEFGHIJKLMNOPQRSTUVWXYZabcdefghijklmnopqrstuvwxyz\n",
    "\n",
    "import random\n",
    "random.seed(11) \n",
    "\n",
    "chars ='!\"#$%()*+,-./0123456789?@ABCDEFGHIJKLMNOPQRSTUVWXYZabcdefghijklmnopqrstuvwxyz'\n",
    "password = ''\n",
    "\n",
    "lengthPW = int(input('¿Qué longitud quieres para tu pw'))\n",
    "\n",
    "for _ in range(lengthPW):\n",
    "    password += random.choice(chars)\n",
    "\n",
    "print(\"tu contraseña de longitud\", lengthPW, \"es:\",password)"
   ]
  },
  {
   "cell_type": "code",
   "execution_count": 2,
   "metadata": {},
   "outputs": [
    {
     "name": "stdout",
     "output_type": "stream",
     "text": [
      "contraseña correcta\n"
     ]
    }
   ],
   "source": [
    "contraseña = 'Computadora'\n",
    "contador = 0\n",
    "\n",
    "while True:\n",
    "    contraseña_input = input('Introduzca una contraseña')\n",
    "    contador +=1 \n",
    "    \n",
    "    if contador > 3:\n",
    "        print('haz sobrepasado los intentos')\n",
    "        break\n",
    "        \n",
    "    elif contraseña_input == \"Computadora\":\n",
    "        print('contraseña correcta')\n",
    "        break\n",
    "    \n",
    "    else:\n",
    "        print('contraseña incorrecta, introduzca una contraseña correcta')"
   ]
  }
 ],
 "metadata": {
  "kernelspec": {
   "display_name": "Python 3",
   "language": "python",
   "name": "python3"
  },
  "language_info": {
   "codemirror_mode": {
    "name": "ipython",
    "version": 3
   },
   "file_extension": ".py",
   "mimetype": "text/x-python",
   "name": "python",
   "nbconvert_exporter": "python",
   "pygments_lexer": "ipython3",
   "version": "3.12.2"
  }
 },
 "nbformat": 4,
 "nbformat_minor": 2
}
